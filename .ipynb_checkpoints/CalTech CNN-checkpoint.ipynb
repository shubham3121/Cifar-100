{
 "cells": [
  {
   "cell_type": "code",
   "execution_count": 1,
   "metadata": {},
   "outputs": [
    {
     "name": "stderr",
     "output_type": "stream",
     "text": [
      "Using TensorFlow backend.\n"
     ]
    }
   ],
   "source": [
    "from sklearn.datasets import load_files\n",
    "from keras.utils import np_utils\n",
    "import numpy as np\n",
    "from glob import glob\n",
    "np.random.seed(47)"
   ]
  },
  {
   "cell_type": "code",
   "execution_count": 2,
   "metadata": {},
   "outputs": [],
   "source": [
    "def load_dataset(path):\n",
    "    data = load_files(path)\n",
    "    img_files = np.array(data['filenames'])\n",
    "    img_target = np_utils.to_categorical(np.array(data['target']), num_classes=101)\n",
    "    return img_files, img_target"
   ]
  },
  {
   "cell_type": "code",
   "execution_count": 3,
   "metadata": {},
   "outputs": [],
   "source": [
    "train_files, train_target = load_dataset('101_ObjectCategories')"
   ]
  },
  {
   "cell_type": "code",
   "execution_count": 4,
   "metadata": {},
   "outputs": [],
   "source": [
    "img_names = [item[21:] for item in sorted(glob('101_ObjectCategories/*'))]"
   ]
  },
  {
   "cell_type": "code",
   "execution_count": 5,
   "metadata": {},
   "outputs": [
    {
     "name": "stdout",
     "output_type": "stream",
     "text": [
      "There are 101 total different categories.\n",
      "There are 8677 total images in the dataset.\n"
     ]
    }
   ],
   "source": [
    "print('There are %d total different categories.'%len(img_names))\n",
    "print('There are %s total images in the dataset.'%len(train_files))"
   ]
  },
  {
   "cell_type": "code",
   "execution_count": 6,
   "metadata": {},
   "outputs": [],
   "source": [
    "from keras.preprocessing import image\n",
    "\n",
    "def path_to_tensor(img_path):\n",
    "    #loads RGB image as PIL.Image.Image type\n",
    "    img = image.load_img(img_path, target_size=(224, 224))\n",
    "    # convert PIL.Image.Image type to 3D tensor with shape (224, 224, 3)\n",
    "    x = image.img_to_array(img)\n",
    "    # Returns 4D tensor with shape (1, 224, 224, 3)\n",
    "    return np.expand_dims(x, axis=0)\n",
    "\n",
    "def paths_to_tensor(img_paths):\n",
    "    list_of_tensors = [path_to_tensor(img_path) for img_path in img_paths]\n",
    "    return np.vstack(list_of_tensors)"
   ]
  },
  {
   "cell_type": "code",
   "execution_count": 7,
   "metadata": {},
   "outputs": [],
   "source": [
    "from PIL import ImageFile\n",
    "ImageFile.LOAD_TRUNCATED_IMAGES = True\n",
    "\n",
    "#### pre-process the data for Keras\n",
    "train_tensors = paths_to_tensor(train_files).astype('float32')/255"
   ]
  },
  {
   "cell_type": "code",
   "execution_count": 8,
   "metadata": {},
   "outputs": [
    {
     "name": "stdout",
     "output_type": "stream",
     "text": [
      "(6941, 224, 224, 3) (6941, 101)\n",
      "(1736, 224, 224, 3) (1736, 101)\n"
     ]
    }
   ],
   "source": [
    "from sklearn.model_selection import train_test_split\n",
    "x_train, x_test, y_train, y_test = train_test_split(train_tensors, train_target, test_size = 0.2, random_state=47)\n",
    "\n",
    "print (x_train.shape, y_train.shape)\n",
    "print (x_test.shape, y_test.shape)"
   ]
  },
  {
   "cell_type": "code",
   "execution_count": 19,
   "metadata": {},
   "outputs": [
    {
     "name": "stdout",
     "output_type": "stream",
     "text": [
      "_________________________________________________________________\n",
      "Layer (type)                 Output Shape              Param #   \n",
      "=================================================================\n",
      "conv2d_17 (Conv2D)           (None, 224, 224, 16)      208       \n",
      "_________________________________________________________________\n",
      "conv2d_18 (Conv2D)           (None, 224, 224, 16)      1040      \n",
      "_________________________________________________________________\n",
      "max_pooling2d_9 (MaxPooling2 (None, 112, 112, 16)      0         \n",
      "_________________________________________________________________\n",
      "dropout_13 (Dropout)         (None, 112, 112, 16)      0         \n",
      "_________________________________________________________________\n",
      "conv2d_19 (Conv2D)           (None, 112, 112, 32)      2080      \n",
      "_________________________________________________________________\n",
      "conv2d_20 (Conv2D)           (None, 112, 112, 32)      4128      \n",
      "_________________________________________________________________\n",
      "max_pooling2d_10 (MaxPooling (None, 56, 56, 32)        0         \n",
      "_________________________________________________________________\n",
      "dropout_14 (Dropout)         (None, 56, 56, 32)        0         \n",
      "_________________________________________________________________\n",
      "flatten_5 (Flatten)          (None, 100352)            0         \n",
      "_________________________________________________________________\n",
      "dense_8 (Dense)              (None, 512)               51380736  \n",
      "_________________________________________________________________\n",
      "dropout_15 (Dropout)         (None, 512)               0         \n",
      "_________________________________________________________________\n",
      "dense_9 (Dense)              (None, 101)               51813     \n",
      "=================================================================\n",
      "Total params: 51,440,005\n",
      "Trainable params: 51,440,005\n",
      "Non-trainable params: 0\n",
      "_________________________________________________________________\n"
     ]
    }
   ],
   "source": [
    "from keras.layers import Conv2D, MaxPooling2D, GlobalAveragePooling2D\n",
    "from keras.layers import Dropout, Flatten, Dense\n",
    "from keras.models import Sequential, Model\n",
    "\n",
    "model = Sequential()\n",
    "model.add(Conv2D(filters=16, kernel_size=2, padding='same', activation='relu', input_shape=x_train.shape[1:]))\n",
    "model.add(Conv2D(filters=16, kernel_size=2, padding='same', activation='relu'))\n",
    "model.add(MaxPooling2D(pool_size=2))\n",
    "model.add(Dropout(0.5))\n",
    "\n",
    "model.add(Conv2D(filters=32, kernel_size=2, padding='same', activation='relu'))\n",
    "model.add(Conv2D(filters=32, kernel_size=2, padding='same', activation='relu'))\n",
    "model.add(MaxPooling2D(pool_size=2))\n",
    "model.add(Dropout(0.5))\n",
    "\n",
    "model.add(Flatten())\n",
    "model.add(Dense(512, activation='relu'))\n",
    "model.add(Dropout(0.5))\n",
    "model.add(Dense(101, activation='softmax'))\n",
    "\n",
    "model.summary()"
   ]
  },
  {
   "cell_type": "code",
   "execution_count": 20,
   "metadata": {},
   "outputs": [],
   "source": [
    "# compile the model\n",
    "from keras.optimizers import SGD\n",
    "sgd = SGD(lr=0.01, decay=1e-6, momentum=0.9, nesterov=True)\n",
    "model.compile(loss='categorical_crossentropy', optimizer=sgd, metrics=['accuracy'])"
   ]
  },
  {
   "cell_type": "code",
   "execution_count": 21,
   "metadata": {},
   "outputs": [
    {
     "name": "stdout",
     "output_type": "stream",
     "text": [
      "Train on 6941 samples, validate on 1736 samples\n",
      "Epoch 1/20\n",
      "Epoch 00000: val_loss improved from inf to 4.27096, saving model to weights.best.hdf5\n",
      "48s - loss: 4.1007 - acc: 0.1668 - val_loss: 4.2710 - val_acc: 0.2166\n",
      "Epoch 2/20\n",
      "Epoch 00001: val_loss improved from 4.27096 to 3.96832, saving model to weights.best.hdf5\n",
      "49s - loss: 3.5279 - acc: 0.2625 - val_loss: 3.9683 - val_acc: 0.1653\n",
      "Epoch 3/20\n",
      "Epoch 00002: val_loss improved from 3.96832 to 3.24995, saving model to weights.best.hdf5\n",
      "49s - loss: 3.2161 - acc: 0.3165 - val_loss: 3.2499 - val_acc: 0.3272\n",
      "Epoch 4/20\n",
      "Epoch 00003: val_loss improved from 3.24995 to 2.92763, saving model to weights.best.hdf5\n",
      "49s - loss: 2.9606 - acc: 0.3533 - val_loss: 2.9276 - val_acc: 0.3882\n",
      "Epoch 5/20\n",
      "Epoch 00004: val_loss did not improve\n",
      "45s - loss: 2.8163 - acc: 0.3772 - val_loss: 2.9507 - val_acc: 0.4009\n",
      "Epoch 6/20\n",
      "Epoch 00005: val_loss improved from 2.92763 to 2.73934, saving model to weights.best.hdf5\n",
      "49s - loss: 2.5828 - acc: 0.4165 - val_loss: 2.7393 - val_acc: 0.4003\n",
      "Epoch 7/20\n",
      "Epoch 00006: val_loss did not improve\n",
      "46s - loss: 2.4205 - acc: 0.4424 - val_loss: 2.7969 - val_acc: 0.4107\n",
      "Epoch 8/20\n",
      "Epoch 00007: val_loss improved from 2.73934 to 2.57998, saving model to weights.best.hdf5\n",
      "49s - loss: 2.2339 - acc: 0.4805 - val_loss: 2.5800 - val_acc: 0.4562\n",
      "Epoch 9/20\n",
      "Epoch 00008: val_loss improved from 2.57998 to 2.32717, saving model to weights.best.hdf5\n",
      "49s - loss: 2.0076 - acc: 0.5249 - val_loss: 2.3272 - val_acc: 0.4816\n",
      "Epoch 10/20\n",
      "Epoch 00009: val_loss did not improve\n",
      "46s - loss: 1.8013 - acc: 0.5589 - val_loss: 2.3429 - val_acc: 0.4844\n",
      "Epoch 11/20\n",
      "Epoch 00010: val_loss improved from 2.32717 to 2.20570, saving model to weights.best.hdf5\n",
      "49s - loss: 1.5829 - acc: 0.6106 - val_loss: 2.2057 - val_acc: 0.5127\n",
      "Epoch 12/20\n",
      "Epoch 00011: val_loss did not improve\n",
      "46s - loss: 1.4236 - acc: 0.6362 - val_loss: 2.2313 - val_acc: 0.5069\n",
      "Epoch 13/20\n",
      "Epoch 00012: val_loss improved from 2.20570 to 2.17600, saving model to weights.best.hdf5\n",
      "49s - loss: 1.2516 - acc: 0.6888 - val_loss: 2.1760 - val_acc: 0.5225\n",
      "Epoch 14/20\n",
      "Epoch 00013: val_loss did not improve\n",
      "46s - loss: 1.0113 - acc: 0.7327 - val_loss: 2.1837 - val_acc: 0.5300\n",
      "Epoch 15/20\n",
      "Epoch 00014: val_loss did not improve\n",
      "46s - loss: 0.9164 - acc: 0.7581 - val_loss: 2.3126 - val_acc: 0.4965\n",
      "Epoch 16/20\n",
      "Epoch 00015: val_loss improved from 2.17600 to 2.15148, saving model to weights.best.hdf5\n",
      "49s - loss: 0.7575 - acc: 0.7979 - val_loss: 2.1515 - val_acc: 0.5213\n",
      "Epoch 17/20\n",
      "Epoch 00016: val_loss did not improve\n",
      "45s - loss: 0.6184 - acc: 0.8352 - val_loss: 2.3719 - val_acc: 0.5202\n",
      "Epoch 18/20\n",
      "Epoch 00017: val_loss did not improve\n",
      "45s - loss: 0.5384 - acc: 0.8505 - val_loss: 2.3403 - val_acc: 0.5219\n",
      "Epoch 19/20\n",
      "Epoch 00018: val_loss did not improve\n",
      "45s - loss: 0.4230 - acc: 0.8810 - val_loss: 2.2382 - val_acc: 0.5432\n",
      "Epoch 20/20\n",
      "Epoch 00019: val_loss did not improve\n",
      "45s - loss: 0.3882 - acc: 0.8870 - val_loss: 2.2868 - val_acc: 0.5432\n"
     ]
    }
   ],
   "source": [
    "from keras.callbacks import ModelCheckpoint   \n",
    "\n",
    "# train the model\n",
    "checkpointer = ModelCheckpoint(filepath='weights.best.hdf5', verbose=1, save_best_only=True)\n",
    "hist = model.fit(x_train, y_train, batch_size=128, epochs=20,validation_data=(x_test, y_test), \n",
    "                 callbacks=[checkpointer], verbose=2, shuffle=True)"
   ]
  },
  {
   "cell_type": "code",
   "execution_count": 22,
   "metadata": {},
   "outputs": [],
   "source": [
    "model.load_weights('weights.best.hdf5')"
   ]
  },
  {
   "cell_type": "code",
   "execution_count": 24,
   "metadata": {},
   "outputs": [
    {
     "name": "stdout",
     "output_type": "stream",
     "text": [
      "\n",
      " Test accuracy: 0.521313364055\n"
     ]
    }
   ],
   "source": [
    "# Score trained model\n",
    "score = model.evaluate(x_test, y_test, verbose=0)\n",
    "print('\\n', 'Test accuracy:', score[1])"
   ]
  },
  {
   "cell_type": "code",
   "execution_count": null,
   "metadata": {},
   "outputs": [],
   "source": []
  }
 ],
 "metadata": {
  "kernelspec": {
   "display_name": "Python 3",
   "language": "python",
   "name": "python3"
  },
  "language_info": {
   "codemirror_mode": {
    "name": "ipython",
    "version": 3
   },
   "file_extension": ".py",
   "mimetype": "text/x-python",
   "name": "python",
   "nbconvert_exporter": "python",
   "pygments_lexer": "ipython3",
   "version": "3.5.2"
  }
 },
 "nbformat": 4,
 "nbformat_minor": 2
}
